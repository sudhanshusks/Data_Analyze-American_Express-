{
 "cells": [
  {
   "cell_type": "code",
   "execution_count": 1,
   "metadata": {
    "collapsed": true
   },
   "outputs": [],
   "source": [
    "import pandas as pd\n",
    "import numpy as np\n",
    "from sklearn.linear_model import LogisticRegression\n",
    "from sklearn import svm\n",
    "from sklearn.naive_bayes import GaussianNB\n",
    "from sklearn.ensemble import RandomForestClassifier\n",
    "from sklearn.model_selection import StratifiedKFold, cross_val_score\n",
    "from sklearn.preprocessing import LabelEncoder\n",
    "from sklearn.metrics import accuracy_score\n",
    "from sklearn.model_selection import train_test_split\n",
    "from sklearn.metrics import classification_report\n",
    "from sklearn.preprocessing import StandardScaler\n",
    "from sklearn.ensemble import GradientBoostingClassifier  #GBM algorithm\n",
    "from sklearn.ensemble import AdaBoostClassifier\n",
    "from sklearn.model_selection import GridSearchCV\n",
    "from sklearn.ensemble import BaggingClassifier\n",
    "from sklearn.neural_network import MLPClassifier\n",
    "from imblearn.over_sampling import SMOTE"
   ]
  },
  {
   "cell_type": "code",
   "execution_count": 78,
   "metadata": {},
   "outputs": [
    {
     "data": {
      "text/html": [
       "<div>\n",
       "<style>\n",
       "    .dataframe thead tr:only-child th {\n",
       "        text-align: right;\n",
       "    }\n",
       "\n",
       "    .dataframe thead th {\n",
       "        text-align: left;\n",
       "    }\n",
       "\n",
       "    .dataframe tbody tr th {\n",
       "        vertical-align: top;\n",
       "    }\n",
       "</style>\n",
       "<table border=\"1\" class=\"dataframe\">\n",
       "  <thead>\n",
       "    <tr style=\"text-align: right;\">\n",
       "      <th></th>\n",
       "      <th>application_key</th>\n",
       "      <th>mvar1</th>\n",
       "      <th>mvar2</th>\n",
       "      <th>mvar3</th>\n",
       "      <th>mvar4</th>\n",
       "      <th>mvar5</th>\n",
       "      <th>mvar6</th>\n",
       "      <th>mvar7</th>\n",
       "      <th>mvar8</th>\n",
       "      <th>mvar9</th>\n",
       "      <th>...</th>\n",
       "      <th>mvar39</th>\n",
       "      <th>mvar40</th>\n",
       "      <th>mvar41</th>\n",
       "      <th>mvar42</th>\n",
       "      <th>mvar43</th>\n",
       "      <th>mvar44</th>\n",
       "      <th>mvar45</th>\n",
       "      <th>mvar46</th>\n",
       "      <th>mvar47</th>\n",
       "      <th>default_ind</th>\n",
       "    </tr>\n",
       "  </thead>\n",
       "  <tbody>\n",
       "    <tr>\n",
       "      <th>0</th>\n",
       "      <td>230032</td>\n",
       "      <td>1696.0</td>\n",
       "      <td>1.6541</td>\n",
       "      <td>0.000</td>\n",
       "      <td>0.0</td>\n",
       "      <td>0.0</td>\n",
       "      <td>0.0</td>\n",
       "      <td>6015.0</td>\n",
       "      <td>322.0</td>\n",
       "      <td>40369.0</td>\n",
       "      <td>...</td>\n",
       "      <td>1.0</td>\n",
       "      <td>73.780</td>\n",
       "      <td>82.547</td>\n",
       "      <td>0.08696</td>\n",
       "      <td>10.0</td>\n",
       "      <td>0.63899</td>\n",
       "      <td>NaN</td>\n",
       "      <td>0.0</td>\n",
       "      <td>0</td>\n",
       "      <td>0</td>\n",
       "    </tr>\n",
       "    <tr>\n",
       "      <th>1</th>\n",
       "      <td>230033</td>\n",
       "      <td>1846.0</td>\n",
       "      <td>0.8095</td>\n",
       "      <td>0.000</td>\n",
       "      <td>0.0</td>\n",
       "      <td>0.0</td>\n",
       "      <td>102.0</td>\n",
       "      <td>7532.0</td>\n",
       "      <td>3171.0</td>\n",
       "      <td>18234.0</td>\n",
       "      <td>...</td>\n",
       "      <td>0.0</td>\n",
       "      <td>99.129</td>\n",
       "      <td>NaN</td>\n",
       "      <td>0.00000</td>\n",
       "      <td>13.0</td>\n",
       "      <td>0.63836</td>\n",
       "      <td>NaN</td>\n",
       "      <td>NaN</td>\n",
       "      <td>1</td>\n",
       "      <td>1</td>\n",
       "    </tr>\n",
       "    <tr>\n",
       "      <th>2</th>\n",
       "      <td>230034</td>\n",
       "      <td>1745.0</td>\n",
       "      <td>0.4001</td>\n",
       "      <td>0.000</td>\n",
       "      <td>0.0</td>\n",
       "      <td>0.0</td>\n",
       "      <td>NaN</td>\n",
       "      <td>2536.0</td>\n",
       "      <td>NaN</td>\n",
       "      <td>NaN</td>\n",
       "      <td>...</td>\n",
       "      <td>0.0</td>\n",
       "      <td>NaN</td>\n",
       "      <td>29.290</td>\n",
       "      <td>0.00000</td>\n",
       "      <td>1.0</td>\n",
       "      <td>1.00000</td>\n",
       "      <td>NaN</td>\n",
       "      <td>0.0</td>\n",
       "      <td>0</td>\n",
       "      <td>1</td>\n",
       "    </tr>\n",
       "    <tr>\n",
       "      <th>3</th>\n",
       "      <td>230035</td>\n",
       "      <td>1739.0</td>\n",
       "      <td>0.2193</td>\n",
       "      <td>0.000</td>\n",
       "      <td>0.0</td>\n",
       "      <td>0.0</td>\n",
       "      <td>1982.0</td>\n",
       "      <td>26440.0</td>\n",
       "      <td>4955.0</td>\n",
       "      <td>20316.0</td>\n",
       "      <td>...</td>\n",
       "      <td>0.0</td>\n",
       "      <td>96.272</td>\n",
       "      <td>NaN</td>\n",
       "      <td>0.15385</td>\n",
       "      <td>3.0</td>\n",
       "      <td>0.53241</td>\n",
       "      <td>0.0</td>\n",
       "      <td>0.0</td>\n",
       "      <td>1</td>\n",
       "      <td>0</td>\n",
       "    </tr>\n",
       "    <tr>\n",
       "      <th>4</th>\n",
       "      <td>230036</td>\n",
       "      <td>1787.0</td>\n",
       "      <td>0.0118</td>\n",
       "      <td>0.225</td>\n",
       "      <td>0.0</td>\n",
       "      <td>0.0</td>\n",
       "      <td>5451.0</td>\n",
       "      <td>5494.0</td>\n",
       "      <td>5494.0</td>\n",
       "      <td>7987.0</td>\n",
       "      <td>...</td>\n",
       "      <td>0.0</td>\n",
       "      <td>115.019</td>\n",
       "      <td>NaN</td>\n",
       "      <td>0.00000</td>\n",
       "      <td>1.0</td>\n",
       "      <td>0.92665</td>\n",
       "      <td>NaN</td>\n",
       "      <td>NaN</td>\n",
       "      <td>1</td>\n",
       "      <td>0</td>\n",
       "    </tr>\n",
       "  </tbody>\n",
       "</table>\n",
       "<p>5 rows × 49 columns</p>\n",
       "</div>"
      ],
      "text/plain": [
       "   application_key   mvar1   mvar2  mvar3  mvar4  mvar5   mvar6    mvar7  \\\n",
       "0           230032  1696.0  1.6541  0.000    0.0    0.0     0.0   6015.0   \n",
       "1           230033  1846.0  0.8095  0.000    0.0    0.0   102.0   7532.0   \n",
       "2           230034  1745.0  0.4001  0.000    0.0    0.0     NaN   2536.0   \n",
       "3           230035  1739.0  0.2193  0.000    0.0    0.0  1982.0  26440.0   \n",
       "4           230036  1787.0  0.0118  0.225    0.0    0.0  5451.0   5494.0   \n",
       "\n",
       "    mvar8    mvar9     ...       mvar39   mvar40  mvar41   mvar42  mvar43  \\\n",
       "0   322.0  40369.0     ...          1.0   73.780  82.547  0.08696    10.0   \n",
       "1  3171.0  18234.0     ...          0.0   99.129     NaN  0.00000    13.0   \n",
       "2     NaN      NaN     ...          0.0      NaN  29.290  0.00000     1.0   \n",
       "3  4955.0  20316.0     ...          0.0   96.272     NaN  0.15385     3.0   \n",
       "4  5494.0   7987.0     ...          0.0  115.019     NaN  0.00000     1.0   \n",
       "\n",
       "    mvar44  mvar45  mvar46  mvar47  default_ind  \n",
       "0  0.63899     NaN     0.0       0            0  \n",
       "1  0.63836     NaN     NaN       1            1  \n",
       "2  1.00000     NaN     0.0       0            1  \n",
       "3  0.53241     0.0     0.0       1            0  \n",
       "4  0.92665     NaN     NaN       1            0  \n",
       "\n",
       "[5 rows x 49 columns]"
      ]
     },
     "execution_count": 78,
     "metadata": {},
     "output_type": "execute_result"
    }
   ],
   "source": [
    "df= pd.read_csv(\"data/training2.csv\")\n",
    "na_cols=['mvar1', 'mvar16', 'mvar17', 'mvar18', 'mvar19', 'mvar20', 'mvar34', 'mvar35', 'mvar36', 'mvar37', 'mvar38',\n",
    "         'mvar39', 'mvar43', 'mvar45', 'mvar46']\n",
    "\n",
    "missing_cols= ['mvar6', 'mvar7', 'mvar8', 'mvar9', 'mvar10', 'mvar11', 'mvar12', 'mvar13', 'mvar15', 'mvar25',\n",
    "               'mvar26', 'mvar27', 'mvar28', 'mvar29', 'mvar30', 'mvar31', 'mvar32', 'mvar40', 'mvar41', 'mvar42']\n",
    "\n",
    "null_cols= list(df.columns[df.isnull().sum() >0])\n",
    "\n",
    "#non-missing cols == ['mvar47', 'mvar14', 'default_ind', 'application_ind']\n",
    "df.head()"
   ]
  },
  {
   "cell_type": "code",
   "execution_count": 79,
   "metadata": {
    "collapsed": true
   },
   "outputs": [],
   "source": [
    "df[missing_cols]= df[missing_cols].fillna(0)\n",
    "df= df.fillna(df.median())\n",
    "y= df['default_ind']\n",
    "cols= ['mvar1', 'mvar2', 'mvar3', 'mvar4', 'mvar5', 'mvar6','mvar7', 'mvar8', 'mvar9', 'mvar10', 'mvar11', 'mvar12', 'mvar13',\n",
    "       'mvar14', 'mvar15', 'mvar16', 'mvar17', 'mvar18', 'mvar19', 'mvar20','mvar21', 'mvar22', 'mvar23', 'mvar24', 'mvar25',\n",
    "       'mvar26', 'mvar27','mvar28', 'mvar29', 'mvar30', 'mvar31', 'mvar32', 'mvar33', 'mvar34','mvar35', 'mvar36', 'mvar37',\n",
    "       'mvar38', 'mvar39', 'mvar40', 'mvar41','mvar42', 'mvar43', 'mvar44', 'mvar45', 'mvar46', 'mvar47']\n",
    "drop= ['mvar4', 'mvar5', 'mvar16', 'mvar17', 'mvar18', 'mvar19', 'mvar20', 'mvar34','mvar35', 'mvar39', 'mvar40', 'mvar41',\n",
    "       'mvar45', 'mvar46']\n",
    "X= df[cols]\n",
    "#X= X.drop(drop, axis=1)\n",
    "le= LabelEncoder()"
   ]
  },
  {
   "cell_type": "code",
   "execution_count": 73,
   "metadata": {},
   "outputs": [
    {
     "name": "stderr",
     "output_type": "stream",
     "text": [
      "C:\\ProgramData\\Anaconda3\\lib\\site-packages\\IPython\\core\\interactiveshell.py:2698: DtypeWarning: Columns (19) have mixed types. Specify dtype option on import or set low_memory=False.\n",
      "  interactivity=interactivity, compiler=compiler, result=result)\n"
     ]
    },
    {
     "data": {
      "text/html": [
       "<div>\n",
       "<style>\n",
       "    .dataframe thead tr:only-child th {\n",
       "        text-align: right;\n",
       "    }\n",
       "\n",
       "    .dataframe thead th {\n",
       "        text-align: left;\n",
       "    }\n",
       "\n",
       "    .dataframe tbody tr th {\n",
       "        vertical-align: top;\n",
       "    }\n",
       "</style>\n",
       "<table border=\"1\" class=\"dataframe\">\n",
       "  <thead>\n",
       "    <tr style=\"text-align: right;\">\n",
       "      <th></th>\n",
       "      <th>application_key</th>\n",
       "      <th>mvar1</th>\n",
       "      <th>mvar2</th>\n",
       "      <th>mvar3</th>\n",
       "      <th>mvar4</th>\n",
       "      <th>mvar5</th>\n",
       "      <th>mvar6</th>\n",
       "      <th>mvar7</th>\n",
       "      <th>mvar8</th>\n",
       "      <th>mvar9</th>\n",
       "      <th>...</th>\n",
       "      <th>mvar38</th>\n",
       "      <th>mvar39</th>\n",
       "      <th>mvar40</th>\n",
       "      <th>mvar41</th>\n",
       "      <th>mvar42</th>\n",
       "      <th>mvar43</th>\n",
       "      <th>mvar44</th>\n",
       "      <th>mvar45</th>\n",
       "      <th>mvar46</th>\n",
       "      <th>mvar47</th>\n",
       "    </tr>\n",
       "  </thead>\n",
       "  <tbody>\n",
       "    <tr>\n",
       "      <th>0</th>\n",
       "      <td>350053</td>\n",
       "      <td>1753.0</td>\n",
       "      <td>0.5001</td>\n",
       "      <td>0.000</td>\n",
       "      <td>0.0</td>\n",
       "      <td>0.0</td>\n",
       "      <td>206.0</td>\n",
       "      <td>19179.0</td>\n",
       "      <td>206.0</td>\n",
       "      <td>14221.0</td>\n",
       "      <td>...</td>\n",
       "      <td>1.0</td>\n",
       "      <td>0.0</td>\n",
       "      <td>0.000</td>\n",
       "      <td>20.551</td>\n",
       "      <td>0.42105</td>\n",
       "      <td>3.0</td>\n",
       "      <td>0.85661</td>\n",
       "      <td>0.0</td>\n",
       "      <td>0.0</td>\n",
       "      <td>1</td>\n",
       "    </tr>\n",
       "    <tr>\n",
       "      <th>1</th>\n",
       "      <td>350054</td>\n",
       "      <td>1894.0</td>\n",
       "      <td>1.9701</td>\n",
       "      <td>0.000</td>\n",
       "      <td>0.0</td>\n",
       "      <td>0.0</td>\n",
       "      <td>297.0</td>\n",
       "      <td>19820.0</td>\n",
       "      <td>19820.0</td>\n",
       "      <td>176895.0</td>\n",
       "      <td>...</td>\n",
       "      <td>3.0</td>\n",
       "      <td>0.0</td>\n",
       "      <td>0.000</td>\n",
       "      <td>63.047</td>\n",
       "      <td>0.00000</td>\n",
       "      <td>15.0</td>\n",
       "      <td>0.94391</td>\n",
       "      <td>0.0</td>\n",
       "      <td>0.0</td>\n",
       "      <td>0</td>\n",
       "    </tr>\n",
       "    <tr>\n",
       "      <th>2</th>\n",
       "      <td>350055</td>\n",
       "      <td>1774.0</td>\n",
       "      <td>0.1718</td>\n",
       "      <td>0.000</td>\n",
       "      <td>0.0</td>\n",
       "      <td>0.0</td>\n",
       "      <td>197.0</td>\n",
       "      <td>2563.0</td>\n",
       "      <td>877.0</td>\n",
       "      <td>8869.0</td>\n",
       "      <td>...</td>\n",
       "      <td>1.0</td>\n",
       "      <td>0.0</td>\n",
       "      <td>0.000</td>\n",
       "      <td>83.797</td>\n",
       "      <td>0.33333</td>\n",
       "      <td>3.0</td>\n",
       "      <td>0.76467</td>\n",
       "      <td>0.0</td>\n",
       "      <td>0.0</td>\n",
       "      <td>0</td>\n",
       "    </tr>\n",
       "    <tr>\n",
       "      <th>3</th>\n",
       "      <td>350056</td>\n",
       "      <td>1586.0</td>\n",
       "      <td>0.1123</td>\n",
       "      <td>5.299</td>\n",
       "      <td>0.0</td>\n",
       "      <td>0.0</td>\n",
       "      <td>0.0</td>\n",
       "      <td>0.0</td>\n",
       "      <td>0.0</td>\n",
       "      <td>0.0</td>\n",
       "      <td>...</td>\n",
       "      <td>1.0</td>\n",
       "      <td>0.0</td>\n",
       "      <td>0.000</td>\n",
       "      <td>0.000</td>\n",
       "      <td>1.50000</td>\n",
       "      <td>0.0</td>\n",
       "      <td>0.73274</td>\n",
       "      <td>0.0</td>\n",
       "      <td>0.0</td>\n",
       "      <td>0</td>\n",
       "    </tr>\n",
       "    <tr>\n",
       "      <th>4</th>\n",
       "      <td>350057</td>\n",
       "      <td>1832.0</td>\n",
       "      <td>1.4442</td>\n",
       "      <td>0.000</td>\n",
       "      <td>0.0</td>\n",
       "      <td>0.0</td>\n",
       "      <td>179.0</td>\n",
       "      <td>7577.0</td>\n",
       "      <td>179.0</td>\n",
       "      <td>21059.0</td>\n",
       "      <td>...</td>\n",
       "      <td>3.0</td>\n",
       "      <td>0.0</td>\n",
       "      <td>96.052</td>\n",
       "      <td>66.665</td>\n",
       "      <td>0.00000</td>\n",
       "      <td>23.0</td>\n",
       "      <td>0.79190</td>\n",
       "      <td>0.0</td>\n",
       "      <td>0.0</td>\n",
       "      <td>1</td>\n",
       "    </tr>\n",
       "  </tbody>\n",
       "</table>\n",
       "<p>5 rows × 48 columns</p>\n",
       "</div>"
      ],
      "text/plain": [
       "   application_key   mvar1   mvar2  mvar3  mvar4  mvar5  mvar6    mvar7  \\\n",
       "0           350053  1753.0  0.5001  0.000    0.0    0.0  206.0  19179.0   \n",
       "1           350054  1894.0  1.9701  0.000    0.0    0.0  297.0  19820.0   \n",
       "2           350055  1774.0  0.1718  0.000    0.0    0.0  197.0   2563.0   \n",
       "3           350056  1586.0  0.1123  5.299    0.0    0.0    0.0      0.0   \n",
       "4           350057  1832.0  1.4442  0.000    0.0    0.0  179.0   7577.0   \n",
       "\n",
       "     mvar8     mvar9   ...    mvar38  mvar39  mvar40  mvar41   mvar42  mvar43  \\\n",
       "0    206.0   14221.0   ...       1.0     0.0   0.000  20.551  0.42105     3.0   \n",
       "1  19820.0  176895.0   ...       3.0     0.0   0.000  63.047  0.00000    15.0   \n",
       "2    877.0    8869.0   ...       1.0     0.0   0.000  83.797  0.33333     3.0   \n",
       "3      0.0       0.0   ...       1.0     0.0   0.000   0.000  1.50000     0.0   \n",
       "4    179.0   21059.0   ...       3.0     0.0  96.052  66.665  0.00000    23.0   \n",
       "\n",
       "    mvar44  mvar45  mvar46  mvar47  \n",
       "0  0.85661     0.0     0.0       1  \n",
       "1  0.94391     0.0     0.0       0  \n",
       "2  0.76467     0.0     0.0       0  \n",
       "3  0.73274     0.0     0.0       0  \n",
       "4  0.79190     0.0     0.0       1  \n",
       "\n",
       "[5 rows x 48 columns]"
      ]
     },
     "execution_count": 73,
     "metadata": {},
     "output_type": "execute_result"
    }
   ],
   "source": [
    "test= pd.read_csv(\"data/Leaderboard_dataset.csv\")\n",
    "test= test.replace('missing', np.nan)\n",
    "test= test.replace('na', np.nan)\n",
    "test.isnull().sum()\n",
    "\n",
    "test[na_cols]= test[na_cols].astype(str).astype(float)\n",
    "test[missing_cols]= test[missing_cols].astype(str).astype(float)\n",
    "\n",
    "test['mvar47']= le.fit_transform(test['mvar47'])\n",
    "test[missing_cols]= test[missing_cols].fillna(0)\n",
    "test= test.fillna(test.median())\n",
    "test.head()"
   ]
  },
  {
   "cell_type": "code",
   "execution_count": 74,
   "metadata": {
    "collapsed": true
   },
   "outputs": [],
   "source": [
    "Xtest= test.drop(['application_key'], axis=1)\n",
    "#Xtest= Xtest.drop(drop, axis=1)\n",
    "ids= test['application_key']"
   ]
  },
  {
   "cell_type": "code",
   "execution_count": 80,
   "metadata": {},
   "outputs": [],
   "source": [
    "from sklearn.preprocessing import StandardScaler\n",
    "scl= StandardScaler()\n",
    "sm = SMOTE(random_state=2)\n",
    "\n",
    "#X, y= sm.fit_sample(X,y)\n",
    "\n",
    "Xtest= scl.fit_transform(Xtest)\n",
    "X= scl.fit_transform(X)"
   ]
  },
  {
   "cell_type": "code",
   "execution_count": 49,
   "metadata": {},
   "outputs": [],
   "source": [
    "rf=RandomForestClassifier(n_estimators=200, min_samples_leaf= 5, max_features='sqrt')\n",
    "rf.fit(X, y)\n",
    "\n",
    "predictions= rf.predict_proba(Xtest)"
   ]
  },
  {
   "cell_type": "code",
   "execution_count": 50,
   "metadata": {
    "collapsed": true
   },
   "outputs": [],
   "source": [
    "data= dict({'ids': ids, 'pred-0':predictions[:,0]})\n",
    "df2= pd.DataFrame(data)\n",
    "df2.to_csv(\"data/temp9.csv\", index=False)"
   ]
  },
  {
   "cell_type": "code",
   "execution_count": 52,
   "metadata": {
    "collapsed": true
   },
   "outputs": [],
   "source": [
    "test= pd.read_csv(\"data/Evaluation_dataset.csv\")\n",
    "test= test.replace('missing', np.nan)\n",
    "test= test.replace('na', np.nan)\n",
    "test.isnull().sum()\n",
    "\n",
    "test[na_cols]= test[na_cols].astype(str).astype(float)\n",
    "test[missing_cols]= test[missing_cols].astype(str).astype(float)\n",
    "\n",
    "test['mvar47']= le.fit_transform(test['mvar47'])\n",
    "test[missing_cols]= test[missing_cols].fillna(0)\n",
    "test= test.fillna(test.median())\n",
    "\n",
    "\n",
    "Xtest= test.drop(['application_key'], axis=1)\n",
    "#Xtest= Xtest.drop(drop, axis=1)\n",
    "ids= test['application_key']\n",
    "Xtest= scl.fit_transform(Xtest)\n"
   ]
  },
  {
   "cell_type": "code",
   "execution_count": 81,
   "metadata": {},
   "outputs": [
    {
     "data": {
      "text/plain": [
       "56000"
      ]
     },
     "execution_count": 81,
     "metadata": {},
     "output_type": "execute_result"
    }
   ],
   "source": [
    "X_train, X_test, y_train, y_test= train_test_split(X, y, test_size=0.3, shuffle=True, stratify= y)\n",
    "len(X_train)"
   ]
  },
  {
   "cell_type": "code",
   "execution_count": 82,
   "metadata": {},
   "outputs": [
    {
     "name": "stdout",
     "output_type": "stream",
     "text": [
      "             precision    recall  f1-score   support\n",
      "\n",
      "          0       0.83      0.94      0.88     18091\n",
      "          1       0.69      0.43      0.53      5909\n",
      "\n",
      "avg / total       0.80      0.81      0.80     24000\n",
      "\n",
      "0.812583333333\n"
     ]
    }
   ],
   "source": [
    "rf=RandomForestClassifier(n_estimators=200, min_samples_leaf= 5, max_features='sqrt')\n",
    "rf.fit(X_train, y_train)\n",
    "y_pred= rf.predict(X_test)\n",
    "print(classification_report(y_test, y_pred))\n",
    "print(accuracy_score(y_test, y_pred))"
   ]
  },
  {
   "cell_type": "code",
   "execution_count": 53,
   "metadata": {
    "collapsed": true
   },
   "outputs": [],
   "source": [
    "rf=RandomForestClassifier(n_estimators=500, min_samples_leaf= 5, max_features='sqrt')\n",
    "rf.fit(X, y)\n",
    "\n",
    "predictions= rf.predict_proba(Xtest)\n",
    "\n",
    "data= dict({'ids': ids, 'pred-0':predictions[:,0]})\n",
    "df2= pd.DataFrame(data)\n",
    "df2.to_csv(\"data/temp9.csv\", index=False)"
   ]
  },
  {
   "cell_type": "markdown",
   "metadata": {},
   "source": [
    "# Trying Bagging from here"
   ]
  },
  {
   "cell_type": "code",
   "execution_count": null,
   "metadata": {},
   "outputs": [],
   "source": [
    "model = BaggingClassifier(base_estimator=rf)\n",
    "model.fit(X, y)\n",
    "# It is the best model till now"
   ]
  },
  {
   "cell_type": "code",
   "execution_count": 59,
   "metadata": {
    "collapsed": true
   },
   "outputs": [],
   "source": [
    "predictions1= model.predict_proba(Xtest)"
   ]
  },
  {
   "cell_type": "code",
   "execution_count": 60,
   "metadata": {},
   "outputs": [],
   "source": [
    "data= dict({'ids': ids, 'pred-0':predictions1[:,0]})\n",
    "df2= pd.DataFrame(data)\n",
    "df2.to_csv(\"data/temp10.csv\", index=False)"
   ]
  },
  {
   "cell_type": "code",
   "execution_count": 68,
   "metadata": {
    "collapsed": true
   },
   "outputs": [],
   "source": [
    "test= pd.read_csv(\"data/Evaluation_dataset.csv\")\n",
    "test= test.replace('missing', np.nan)\n",
    "test= test.replace('na', np.nan)\n",
    "test.isnull().sum()\n",
    "\n",
    "test[na_cols]= test[na_cols].astype(str).astype(float)\n",
    "test[missing_cols]= test[missing_cols].astype(str).astype(float)\n",
    "\n",
    "test['mvar47']= le.fit_transform(test['mvar47'])\n",
    "test[missing_cols]= test[missing_cols].fillna(0)\n",
    "test= test.fillna(test.median())\n",
    "\n",
    "\n",
    "Xtest= test.drop(['application_key'], axis=1)\n",
    "#Xtest= Xtest.drop(drop, axis=1)\n",
    "ids= test['application_key']\n",
    "Xtest= scl.fit_transform(Xtest)\n"
   ]
  },
  {
   "cell_type": "code",
   "execution_count": 62,
   "metadata": {
    "collapsed": true
   },
   "outputs": [],
   "source": [
    "model = BaggingClassifier(base_estimator=rf)\n",
    "model.fit(X, y)"
   ]
  },
  {
   "cell_type": "code",
   "execution_count": 69,
   "metadata": {
    "collapsed": true
   },
   "outputs": [],
   "source": [
    "predictions= model.predict_proba(Xtest)\n",
    "\n",
    "data= dict({'ids': ids, 'pred-0':predictions[:,0]})\n",
    "df2= pd.DataFrame(data)\n",
    "df2.to_csv(\"data/temp12.csv\", index=False)"
   ]
  },
  {
   "cell_type": "code",
   "execution_count": 70,
   "metadata": {},
   "outputs": [],
   "source": [
    "#Tune the bagging classifier above for leaderboard"
   ]
  },
  {
   "cell_type": "code",
   "execution_count": null,
   "metadata": {},
   "outputs": [],
   "source": [
    "model = BaggingClassifier(base_estimator=rf, n_estimators= 100, max_features= 10)\n",
    "model.fit(X, y)\n",
    "\n",
    "predictions= model.predict_proba(Xtest)\n",
    "\n",
    "data= dict({'ids': ids, 'pred-0':predictions[:,0]})\n",
    "df2= pd.DataFrame(data)\n",
    "df2.to_csv(\"data/temp13.csv\", index=False)"
   ]
  },
  {
   "cell_type": "code",
   "execution_count": null,
   "metadata": {
    "collapsed": true
   },
   "outputs": [],
   "source": []
  }
 ],
 "metadata": {
  "kernelspec": {
   "display_name": "Python 3",
   "language": "python",
   "name": "python3"
  },
  "language_info": {
   "codemirror_mode": {
    "name": "ipython",
    "version": 3
   },
   "file_extension": ".py",
   "mimetype": "text/x-python",
   "name": "python",
   "nbconvert_exporter": "python",
   "pygments_lexer": "ipython3",
   "version": "3.6.3"
  }
 },
 "nbformat": 4,
 "nbformat_minor": 2
}
